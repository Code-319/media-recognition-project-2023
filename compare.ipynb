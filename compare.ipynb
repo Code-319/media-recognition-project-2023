{
 "cells": [
  {
   "cell_type": "code",
   "execution_count": 8,
   "metadata": {},
   "outputs": [],
   "source": [
    "import torch\n",
    "import clip\n",
    "import numpy as np\n",
    "device = \"cuda\" if torch.cuda.is_available() else \"cpu\"\n",
    "model, preprocess = clip.load(\"ViT-B/32\", device=device)\n",
    "\n",
    "sentence1 = \"put the apple to the red bin\"\n",
    "sentence2 = \"red bin\"\n",
    "sentence3 = \"green bin\"\n",
    "\n",
    "token1 = clip.tokenize(sentence1)\n",
    "token2 = clip.tokenize(sentence2)\n",
    "token3 = clip.tokenize(sentence3)"
   ]
  },
  {
   "cell_type": "code",
   "execution_count": 9,
   "metadata": {},
   "outputs": [
    {
     "name": "stdout",
     "output_type": "stream",
     "text": [
      "[[-1698847359]]\n",
      "[[-1696537164]]\n"
     ]
    }
   ],
   "source": [
    "print(np.inner(token1, token2))\n",
    "print(np.inner(token1, token3))"
   ]
  }
 ],
 "metadata": {
  "kernelspec": {
   "display_name": "sd",
   "language": "python",
   "name": "python3"
  },
  "language_info": {
   "codemirror_mode": {
    "name": "ipython",
    "version": 3
   },
   "file_extension": ".py",
   "mimetype": "text/x-python",
   "name": "python",
   "nbconvert_exporter": "python",
   "pygments_lexer": "ipython3",
   "version": "3.10.6"
  }
 },
 "nbformat": 4,
 "nbformat_minor": 2
}
