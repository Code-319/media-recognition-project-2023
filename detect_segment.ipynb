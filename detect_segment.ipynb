{
 "cells": [
  {
   "cell_type": "code",
   "execution_count": 11,
   "metadata": {},
   "outputs": [
    {
     "name": "stdout",
     "output_type": "stream",
     "text": [
      "Looking in indexes: https://pypi.tuna.tsinghua.edu.cn/simple\n",
      "Requirement already satisfied: ultralytics in c:\\users\\86198\\anaconda3\\envs\\sd\\lib\\site-packages (8.0.222)\n",
      "Requirement already satisfied: torch>=1.8.0 in c:\\users\\86198\\anaconda3\\envs\\sd\\lib\\site-packages (from ultralytics) (2.1.1)\n",
      "Requirement already satisfied: matplotlib>=3.3.0 in c:\\users\\86198\\anaconda3\\envs\\sd\\lib\\site-packages (from ultralytics) (3.8.2)\n",
      "Requirement already satisfied: torchvision>=0.9.0 in c:\\users\\86198\\anaconda3\\envs\\sd\\lib\\site-packages (from ultralytics) (0.16.1)\n",
      "Requirement already satisfied: pandas>=1.1.4 in c:\\users\\86198\\anaconda3\\envs\\sd\\lib\\site-packages (from ultralytics) (2.1.3)\n",
      "Requirement already satisfied: psutil in c:\\users\\86198\\anaconda3\\envs\\sd\\lib\\site-packages (from ultralytics) (5.9.6)\n",
      "Requirement already satisfied: opencv-python>=4.6.0 in c:\\users\\86198\\anaconda3\\envs\\sd\\lib\\site-packages (from ultralytics) (4.8.1.78)\n",
      "Requirement already satisfied: py-cpuinfo in c:\\users\\86198\\anaconda3\\envs\\sd\\lib\\site-packages (from ultralytics) (9.0.0)\n",
      "Requirement already satisfied: pillow>=7.1.2 in c:\\users\\86198\\anaconda3\\envs\\sd\\lib\\site-packages (from ultralytics) (10.1.0)\n",
      "Requirement already satisfied: thop>=0.1.1 in c:\\users\\86198\\anaconda3\\envs\\sd\\lib\\site-packages (from ultralytics) (0.1.1.post2209072238)\n",
      "Requirement already satisfied: seaborn>=0.11.0 in c:\\users\\86198\\anaconda3\\envs\\sd\\lib\\site-packages (from ultralytics) (0.13.0)\n",
      "Requirement already satisfied: scipy>=1.4.1 in c:\\users\\86198\\anaconda3\\envs\\sd\\lib\\site-packages (from ultralytics) (1.11.4)\n",
      "Requirement already satisfied: numpy>=1.22.2 in c:\\users\\86198\\anaconda3\\envs\\sd\\lib\\site-packages (from ultralytics) (1.26.2)\n",
      "Requirement already satisfied: requests>=2.23.0 in c:\\users\\86198\\anaconda3\\envs\\sd\\lib\\site-packages (from ultralytics) (2.31.0)\n",
      "Requirement already satisfied: pyyaml>=5.3.1 in c:\\users\\86198\\anaconda3\\envs\\sd\\lib\\site-packages (from ultralytics) (6.0.1)\n",
      "Requirement already satisfied: tqdm>=4.64.0 in c:\\users\\86198\\anaconda3\\envs\\sd\\lib\\site-packages (from ultralytics) (4.66.1)\n",
      "Requirement already satisfied: fonttools>=4.22.0 in c:\\users\\86198\\anaconda3\\envs\\sd\\lib\\site-packages (from matplotlib>=3.3.0->ultralytics) (4.46.0)\n",
      "Requirement already satisfied: python-dateutil>=2.7 in c:\\users\\86198\\anaconda3\\envs\\sd\\lib\\site-packages (from matplotlib>=3.3.0->ultralytics) (2.8.2)\n",
      "Requirement already satisfied: cycler>=0.10 in c:\\users\\86198\\anaconda3\\envs\\sd\\lib\\site-packages (from matplotlib>=3.3.0->ultralytics) (0.12.1)\n",
      "Requirement already satisfied: packaging>=20.0 in c:\\users\\86198\\anaconda3\\envs\\sd\\lib\\site-packages (from matplotlib>=3.3.0->ultralytics) (23.2)\n",
      "Requirement already satisfied: kiwisolver>=1.3.1 in c:\\users\\86198\\anaconda3\\envs\\sd\\lib\\site-packages (from matplotlib>=3.3.0->ultralytics) (1.4.5)\n",
      "Requirement already satisfied: pyparsing>=2.3.1 in c:\\users\\86198\\anaconda3\\envs\\sd\\lib\\site-packages (from matplotlib>=3.3.0->ultralytics) (3.1.1)\n",
      "Requirement already satisfied: contourpy>=1.0.1 in c:\\users\\86198\\anaconda3\\envs\\sd\\lib\\site-packages (from matplotlib>=3.3.0->ultralytics) (1.2.0)\n",
      "Requirement already satisfied: pytz>=2020.1 in c:\\users\\86198\\anaconda3\\envs\\sd\\lib\\site-packages (from pandas>=1.1.4->ultralytics) (2023.3.post1)\n",
      "Requirement already satisfied: tzdata>=2022.1 in c:\\users\\86198\\anaconda3\\envs\\sd\\lib\\site-packages (from pandas>=1.1.4->ultralytics) (2023.3)\n",
      "Requirement already satisfied: idna<4,>=2.5 in c:\\users\\86198\\anaconda3\\envs\\sd\\lib\\site-packages (from requests>=2.23.0->ultralytics) (3.6)\n",
      "Requirement already satisfied: certifi>=2017.4.17 in c:\\users\\86198\\anaconda3\\envs\\sd\\lib\\site-packages (from requests>=2.23.0->ultralytics) (2023.11.17)\n",
      "Requirement already satisfied: urllib3<3,>=1.21.1 in c:\\users\\86198\\anaconda3\\envs\\sd\\lib\\site-packages (from requests>=2.23.0->ultralytics) (2.1.0)\n",
      "Requirement already satisfied: charset-normalizer<4,>=2 in c:\\users\\86198\\anaconda3\\envs\\sd\\lib\\site-packages (from requests>=2.23.0->ultralytics) (3.3.2)\n",
      "Requirement already satisfied: typing-extensions in c:\\users\\86198\\anaconda3\\envs\\sd\\lib\\site-packages (from torch>=1.8.0->ultralytics) (4.8.0)\n",
      "Requirement already satisfied: jinja2 in c:\\users\\86198\\anaconda3\\envs\\sd\\lib\\site-packages (from torch>=1.8.0->ultralytics) (3.1.2)\n",
      "Requirement already satisfied: networkx in c:\\users\\86198\\anaconda3\\envs\\sd\\lib\\site-packages (from torch>=1.8.0->ultralytics) (3.2.1)\n",
      "Requirement already satisfied: fsspec in c:\\users\\86198\\anaconda3\\envs\\sd\\lib\\site-packages (from torch>=1.8.0->ultralytics) (2023.12.0)\n",
      "Requirement already satisfied: sympy in c:\\users\\86198\\anaconda3\\envs\\sd\\lib\\site-packages (from torch>=1.8.0->ultralytics) (1.12)\n",
      "Requirement already satisfied: filelock in c:\\users\\86198\\anaconda3\\envs\\sd\\lib\\site-packages (from torch>=1.8.0->ultralytics) (3.13.1)\n",
      "Requirement already satisfied: colorama in c:\\users\\86198\\anaconda3\\envs\\sd\\lib\\site-packages (from tqdm>=4.64.0->ultralytics) (0.4.6)\n",
      "Requirement already satisfied: six>=1.5 in c:\\users\\86198\\anaconda3\\envs\\sd\\lib\\site-packages (from python-dateutil>=2.7->matplotlib>=3.3.0->ultralytics) (1.16.0)\n",
      "Requirement already satisfied: MarkupSafe>=2.0 in c:\\users\\86198\\anaconda3\\envs\\sd\\lib\\site-packages (from jinja2->torch>=1.8.0->ultralytics) (2.1.3)\n",
      "Requirement already satisfied: mpmath>=0.19 in c:\\users\\86198\\anaconda3\\envs\\sd\\lib\\site-packages (from sympy->torch>=1.8.0->ultralytics) (1.3.0)\n",
      "Note: you may need to restart the kernel to use updated packages.\n"
     ]
    }
   ],
   "source": [
    "%pip install ultralytics\n",
    "# %pip install git+https://github.com/openai/CLIP.git"
   ]
  },
  {
   "cell_type": "code",
   "execution_count": 12,
   "metadata": {},
   "outputs": [],
   "source": [
    "from ultralytics import YOLO\n",
    "import clip\n",
    "import torch\n",
    "yolov8 = YOLO(\"yolov8s-oiv7.pt\")\n",
    "device = \"cuda\" if torch.cuda.is_available() else \"cpu\"\n",
    "model, preprocess = clip.load(\"ViT-B/32\", device=device)"
   ]
  },
  {
   "cell_type": "code",
   "execution_count": 13,
   "metadata": {},
   "outputs": [],
   "source": [
    "from PIL import Image\n",
    "sample_img = Image.open(\"result2.jpg\")\n",
    "# clip_img = preprocess(sample_img).unsqueeze(0).to(device)\n",
    "# question = \"What is in the hand?\"\n",
    "# candidates = [\"a pen\", \"an apple\", \"a handgun\", \"a phone\", \"a computer\", \"a cattle\", \"a cake\"]\n",
    "# input_texts = [f\"{question} {candidate}\" for candidate in candidates]"
   ]
  },
  {
   "cell_type": "code",
   "execution_count": 14,
   "metadata": {},
   "outputs": [
    {
     "name": "stdout",
     "output_type": "stream",
     "text": [
      "\n",
      "0: 640x640 1 Cat, 1 Dog, 1 Fast food, 2 Foods, 1 Snack, 225.7ms\n",
      "Speed: 6.0ms preprocess, 225.7ms inference, 8.0ms postprocess per image at shape (1, 3, 640, 640)\n",
      "Results saved to \u001b[1mruns\\detect\\predict9\u001b[0m\n"
     ]
    }
   ],
   "source": [
    "results = yolov8(source=sample_img,show=False,conf=0.1,save=True)\n"
   ]
  },
  {
   "cell_type": "code",
   "execution_count": 15,
   "metadata": {},
   "outputs": [
    {
     "name": "stdout",
     "output_type": "stream",
     "text": [
      "tensor([160.,  96., 186., 199., 468., 199.]) tensor([0.7200, 0.6729, 0.1912, 0.1821, 0.1380, 0.1040]) tensor([[ 89.0382,  99.9075, 113.0884, 161.9482],\n",
      "        [268.8309, 362.4578, 145.9076, 185.1913],\n",
      "        [ 90.4221, 262.1385, 142.7774, 135.4643],\n",
      "        [290.7786, 128.9967, 119.0641, 130.3784],\n",
      "        [ 90.2151, 263.0118, 142.0814, 138.2690],\n",
      "        [ 90.7173, 262.0331, 140.4504, 133.8174]])\n"
     ]
    },
    {
     "ename": "KeyboardInterrupt",
     "evalue": "",
     "output_type": "error",
     "traceback": [
      "\u001b[1;31m---------------------------------------------------------------------------\u001b[0m",
      "\u001b[1;31mKeyboardInterrupt\u001b[0m                         Traceback (most recent call last)",
      "Cell \u001b[1;32mIn[15], line 30\u001b[0m\n\u001b[0;32m     28\u001b[0m \u001b[38;5;66;03m# 显示分割图像\u001b[39;00m\n\u001b[0;32m     29\u001b[0m cv2\u001b[38;5;241m.\u001b[39mimshow(\u001b[38;5;124m'\u001b[39m\u001b[38;5;124mSegmented Image\u001b[39m\u001b[38;5;124m'\u001b[39m, segmented_image)\n\u001b[1;32m---> 30\u001b[0m \u001b[43mcv2\u001b[49m\u001b[38;5;241;43m.\u001b[39;49m\u001b[43mwaitKey\u001b[49m\u001b[43m(\u001b[49m\u001b[38;5;241;43m0\u001b[39;49m\u001b[43m)\u001b[49m\n\u001b[0;32m     31\u001b[0m cv2\u001b[38;5;241m.\u001b[39mdestroyAllWindows()\n\u001b[0;32m     34\u001b[0m \u001b[38;5;66;03m# mask = np.zeros(image.shape[:2], dtype=np.uint8)\u001b[39;00m\n\u001b[0;32m     35\u001b[0m \u001b[38;5;66;03m# mask[y-h//2:y+h//2, x-w//2:x+w//2] = 255\u001b[39;00m\n\u001b[0;32m     36\u001b[0m \n\u001b[1;32m   (...)\u001b[0m\n\u001b[0;32m     42\u001b[0m \u001b[38;5;66;03m# cv2.waitKey(0)\u001b[39;00m\n\u001b[0;32m     43\u001b[0m \u001b[38;5;66;03m# cv2.destroyAllWindows()\u001b[39;00m\n",
      "\u001b[1;31mKeyboardInterrupt\u001b[0m: "
     ]
    }
   ],
   "source": [
    "import cv2\n",
    "import numpy as np\n",
    "import math\n",
    "\n",
    "image = cv2.imread('result2.jpg')\n",
    "\n",
    "for r in results:\n",
    "    box=r.boxes\n",
    "    cls=box.cls\n",
    "    conf=box.conf\n",
    "    xywh=box.xywh\n",
    "    print(cls,conf,xywh)\n",
    "    # 边界框坐标\n",
    "    for i in range(0,len(box)): \n",
    "        [x, y, w, h] = xywh[i]  # 替换为实际的边界框坐标\n",
    "        x=math.floor(x)\n",
    "        y=math.floor(y)\n",
    "        w=math.floor(w)\n",
    "        h=math.floor(h)\n",
    "        # 创建分割图像的掩膜\n",
    "\n",
    "        # 分割部分的图像\n",
    "        segmented_image = image[y-h//2:y+h//2, x-w//2:x+w//2]\n",
    "\n",
    "        # 保存分割图像\n",
    "        cv2.imwrite('segmented_image.jpg', segmented_image)\n",
    "\n",
    "        # 显示分割图像\n",
    "        cv2.imshow('Segmented Image', segmented_image)\n",
    "        cv2.waitKey(0)\n",
    "        cv2.destroyAllWindows()\n",
    "\n",
    "\n",
    "        # mask = np.zeros(image.shape[:2], dtype=np.uint8)\n",
    "        # mask[y-h//2:y+h//2, x-w//2:x+w//2] = 255\n",
    "\n",
    "        # # 应用掩膜进行分割\n",
    "        # segmented_image = cv2.bitwise_and(image, image, mask=mask)\n",
    "\n",
    "        # # 显示分割图像\n",
    "        # cv2.imshow('Segmented Image', segmented_image)\n",
    "        # cv2.waitKey(0)\n",
    "        # cv2.destroyAllWindows()\n"
   ]
  }
 ],
 "metadata": {
  "kernelspec": {
   "display_name": "mcenv",
   "language": "python",
   "name": "python3"
  },
  "language_info": {
   "codemirror_mode": {
    "name": "ipython",
    "version": 3
   },
   "file_extension": ".py",
   "mimetype": "text/x-python",
   "name": "python",
   "nbconvert_exporter": "python",
   "pygments_lexer": "ipython3",
   "version": "3.10.6"
  }
 },
 "nbformat": 4,
 "nbformat_minor": 2
}
