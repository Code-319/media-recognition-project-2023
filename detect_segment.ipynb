{
 "cells": [
  {
   "cell_type": "code",
   "execution_count": 1,
   "metadata": {},
   "outputs": [
    {
     "name": "stdout",
     "output_type": "stream",
     "text": [
      "Looking in indexes: https://mirrors.aliyun.com/pypi/simple/\n",
      "Requirement already satisfied: ultralytics in c:\\users\\13621\\anaconda3\\envs\\media\\lib\\site-packages (8.0.221)\n",
      "Requirement already satisfied: matplotlib>=3.3.0 in c:\\users\\13621\\anaconda3\\envs\\media\\lib\\site-packages (from ultralytics) (3.7.3)\n",
      "Requirement already satisfied: numpy>=1.22.2 in c:\\users\\13621\\anaconda3\\envs\\media\\lib\\site-packages (from ultralytics) (1.24.3)\n",
      "Requirement already satisfied: opencv-python>=4.6.0 in c:\\users\\13621\\anaconda3\\envs\\media\\lib\\site-packages (from ultralytics) (4.8.1.78)\n",
      "Requirement already satisfied: pillow>=7.1.2 in c:\\users\\13621\\anaconda3\\envs\\media\\lib\\site-packages (from ultralytics) (10.0.1)\n",
      "Requirement already satisfied: pyyaml>=5.3.1 in c:\\users\\13621\\anaconda3\\envs\\media\\lib\\site-packages (from ultralytics) (6.0.1)\n",
      "Requirement already satisfied: requests>=2.23.0 in c:\\users\\13621\\anaconda3\\envs\\media\\lib\\site-packages (from ultralytics) (2.31.0)\n",
      "Requirement already satisfied: scipy>=1.4.1 in c:\\users\\13621\\anaconda3\\envs\\media\\lib\\site-packages (from ultralytics) (1.10.1)\n",
      "Requirement already satisfied: torch>=1.8.0 in c:\\users\\13621\\anaconda3\\envs\\media\\lib\\site-packages (from ultralytics) (2.1.1)\n",
      "Requirement already satisfied: torchvision>=0.9.0 in c:\\users\\13621\\anaconda3\\envs\\media\\lib\\site-packages (from ultralytics) (0.16.1)\n",
      "Requirement already satisfied: tqdm>=4.64.0 in c:\\users\\13621\\anaconda3\\envs\\media\\lib\\site-packages (from ultralytics) (4.66.1)\n",
      "Requirement already satisfied: pandas>=1.1.4 in c:\\users\\13621\\anaconda3\\envs\\media\\lib\\site-packages (from ultralytics) (2.0.3)\n",
      "Requirement already satisfied: seaborn>=0.11.0 in c:\\users\\13621\\anaconda3\\envs\\media\\lib\\site-packages (from ultralytics) (0.13.0)\n",
      "Requirement already satisfied: psutil in c:\\users\\13621\\anaconda3\\envs\\media\\lib\\site-packages (from ultralytics) (5.9.0)\n",
      "Requirement already satisfied: py-cpuinfo in c:\\users\\13621\\anaconda3\\envs\\media\\lib\\site-packages (from ultralytics) (9.0.0)\n",
      "Requirement already satisfied: thop>=0.1.1 in c:\\users\\13621\\anaconda3\\envs\\media\\lib\\site-packages (from ultralytics) (0.1.1.post2209072238)\n",
      "Requirement already satisfied: contourpy>=1.0.1 in c:\\users\\13621\\anaconda3\\envs\\media\\lib\\site-packages (from matplotlib>=3.3.0->ultralytics) (1.1.1)\n",
      "Requirement already satisfied: cycler>=0.10 in c:\\users\\13621\\anaconda3\\envs\\media\\lib\\site-packages (from matplotlib>=3.3.0->ultralytics) (0.12.1)\n",
      "Requirement already satisfied: fonttools>=4.22.0 in c:\\users\\13621\\anaconda3\\envs\\media\\lib\\site-packages (from matplotlib>=3.3.0->ultralytics) (4.43.1)\n",
      "Requirement already satisfied: kiwisolver>=1.0.1 in c:\\users\\13621\\anaconda3\\envs\\media\\lib\\site-packages (from matplotlib>=3.3.0->ultralytics) (1.4.5)\n",
      "Requirement already satisfied: packaging>=20.0 in c:\\users\\13621\\anaconda3\\envs\\media\\lib\\site-packages (from matplotlib>=3.3.0->ultralytics) (23.1)\n",
      "Requirement already satisfied: pyparsing>=2.3.1 in c:\\users\\13621\\anaconda3\\envs\\media\\lib\\site-packages (from matplotlib>=3.3.0->ultralytics) (3.1.1)\n",
      "Requirement already satisfied: python-dateutil>=2.7 in c:\\users\\13621\\anaconda3\\envs\\media\\lib\\site-packages (from matplotlib>=3.3.0->ultralytics) (2.8.2)\n",
      "Requirement already satisfied: importlib-resources>=3.2.0 in c:\\users\\13621\\anaconda3\\envs\\media\\lib\\site-packages (from matplotlib>=3.3.0->ultralytics) (6.1.0)\n",
      "Requirement already satisfied: pytz>=2020.1 in c:\\users\\13621\\anaconda3\\envs\\media\\lib\\site-packages (from pandas>=1.1.4->ultralytics) (2023.3.post1)\n",
      "Requirement already satisfied: tzdata>=2022.1 in c:\\users\\13621\\anaconda3\\envs\\media\\lib\\site-packages (from pandas>=1.1.4->ultralytics) (2023.3)\n",
      "Requirement already satisfied: charset-normalizer<4,>=2 in c:\\users\\13621\\anaconda3\\envs\\media\\lib\\site-packages (from requests>=2.23.0->ultralytics) (3.3.2)\n",
      "Requirement already satisfied: idna<4,>=2.5 in c:\\users\\13621\\anaconda3\\envs\\media\\lib\\site-packages (from requests>=2.23.0->ultralytics) (3.6)\n",
      "Requirement already satisfied: urllib3<3,>=1.21.1 in c:\\users\\13621\\anaconda3\\envs\\media\\lib\\site-packages (from requests>=2.23.0->ultralytics) (2.1.0)\n",
      "Requirement already satisfied: certifi>=2017.4.17 in c:\\users\\13621\\anaconda3\\envs\\media\\lib\\site-packages (from requests>=2.23.0->ultralytics) (2023.11.17)\n",
      "Requirement already satisfied: filelock in c:\\users\\13621\\anaconda3\\envs\\media\\lib\\site-packages (from torch>=1.8.0->ultralytics) (3.13.1)\n",
      "Requirement already satisfied: typing-extensions in c:\\users\\13621\\anaconda3\\envs\\media\\lib\\site-packages (from torch>=1.8.0->ultralytics) (4.7.1)\n",
      "Requirement already satisfied: sympy in c:\\users\\13621\\anaconda3\\envs\\media\\lib\\site-packages (from torch>=1.8.0->ultralytics) (1.12)\n",
      "Requirement already satisfied: networkx in c:\\users\\13621\\anaconda3\\envs\\media\\lib\\site-packages (from torch>=1.8.0->ultralytics) (3.1)\n",
      "Requirement already satisfied: jinja2 in c:\\users\\13621\\anaconda3\\envs\\media\\lib\\site-packages (from torch>=1.8.0->ultralytics) (3.1.2)\n",
      "Requirement already satisfied: fsspec in c:\\users\\13621\\anaconda3\\envs\\media\\lib\\site-packages (from torch>=1.8.0->ultralytics) (2023.10.0)\n",
      "Requirement already satisfied: colorama in c:\\users\\13621\\anaconda3\\envs\\media\\lib\\site-packages (from tqdm>=4.64.0->ultralytics) (0.4.6)\n",
      "Requirement already satisfied: zipp>=3.1.0 in c:\\users\\13621\\anaconda3\\envs\\media\\lib\\site-packages (from importlib-resources>=3.2.0->matplotlib>=3.3.0->ultralytics) (3.11.0)\n",
      "Requirement already satisfied: six>=1.5 in c:\\users\\13621\\anaconda3\\envs\\media\\lib\\site-packages (from python-dateutil>=2.7->matplotlib>=3.3.0->ultralytics) (1.16.0)\n",
      "Requirement already satisfied: MarkupSafe>=2.0 in c:\\users\\13621\\anaconda3\\envs\\media\\lib\\site-packages (from jinja2->torch>=1.8.0->ultralytics) (2.1.3)\n",
      "Requirement already satisfied: mpmath>=0.19 in c:\\users\\13621\\anaconda3\\envs\\media\\lib\\site-packages (from sympy->torch>=1.8.0->ultralytics) (1.3.0)\n",
      "Note: you may need to restart the kernel to use updated packages.\n",
      "Looking in indexes: https://mirrors.aliyun.com/pypi/simple/\n",
      "Collecting git+https://github.com/openai/CLIP.git\n",
      "  Cloning https://github.com/openai/CLIP.git to c:\\users\\13621\\appdata\\local\\temp\\pip-req-build-o65ja1xb\n",
      "Note: you may need to restart the kernel to use updated packages.\n"
     ]
    },
    {
     "name": "stderr",
     "output_type": "stream",
     "text": [
      "  Running command git clone --filter=blob:none --quiet https://github.com/openai/CLIP.git 'C:\\Users\\13621\\AppData\\Local\\Temp\\pip-req-build-o65ja1xb'\n",
      "  fatal: unable to access 'https://github.com/openai/CLIP.git/': Failed to connect to github.com port 443 after 21109 ms: Couldn't connect to server\n",
      "  error: subprocess-exited-with-error\n",
      "  \n",
      "  × git clone --filter=blob:none --quiet https://github.com/openai/CLIP.git 'C:\\Users\\13621\\AppData\\Local\\Temp\\pip-req-build-o65ja1xb' did not run successfully.\n",
      "  │ exit code: 128\n",
      "  ╰─> See above for output.\n",
      "  \n",
      "  note: This error originates from a subprocess, and is likely not a problem with pip.\n",
      "error: subprocess-exited-with-error\n",
      "\n",
      "× git clone --filter=blob:none --quiet https://github.com/openai/CLIP.git 'C:\\Users\\13621\\AppData\\Local\\Temp\\pip-req-build-o65ja1xb' did not run successfully.\n",
      "│ exit code: 128\n",
      "╰─> See above for output.\n",
      "\n",
      "note: This error originates from a subprocess, and is likely not a problem with pip.\n"
     ]
    }
   ],
   "source": [
    "%pip install ultralytics\n",
    "# %pip install git+https://github.com/openai/CLIP.git"
   ]
  },
  {
   "cell_type": "code",
   "execution_count": 2,
   "metadata": {},
   "outputs": [
    {
     "name": "stderr",
     "output_type": "stream",
     "text": [
      "100%|███████████████████████████████████████| 338M/338M [01:20<00:00, 4.40MiB/s]\n"
     ]
    },
    {
     "ename": "",
     "evalue": "",
     "output_type": "error",
     "traceback": [
      "\u001b[1;31m在当前单元格或上一个单元格中执行代码时 Kernel 崩溃。请查看单元格中的代码，以确定故障的可能原因。有关详细信息，请单击 <a href='https://aka.ms/vscodeJupyterKernelCrash'>此处</a>。有关更多详细信息，请查看 Jupyter <a href='command:jupyter.viewOutput'>log</a>。"
     ]
    }
   ],
   "source": [
    "from ultralytics import YOLO\n",
    "import clip\n",
    "import torch\n",
    "yolov8 = YOLO(\"yolov8m-oiv7.pt\")\n",
    "device = \"cuda\" if torch.cuda.is_available() else \"cpu\"\n",
    "model, preprocess = clip.load(\"ViT-B/32\", device=device)"
   ]
  },
  {
   "cell_type": "code",
   "execution_count": 12,
   "metadata": {},
   "outputs": [],
   "source": [
    "from PIL import Image\n",
    "sample_img = Image.open(\"pretest.jpg\")\n",
    "# clip_img = preprocess(sample_img).unsqueeze(0).to(device)\n",
    "# question = \"What is in the hand?\"\n",
    "# candidates = [\"a pen\", \"an apple\", \"a handgun\", \"a phone\", \"a computer\", \"a cattle\", \"a cake\"]\n",
    "# input_texts = [f\"{question} {candidate}\" for candidate in candidates]"
   ]
  },
  {
   "cell_type": "code",
   "execution_count": 31,
   "metadata": {},
   "outputs": [
    {
     "name": "stdout",
     "output_type": "stream",
     "text": [
      "\n"
     ]
    },
    {
     "name": "stdout",
     "output_type": "stream",
     "text": [
      "0: 640x480 2 Cats, 1 Dog, 3 Picture frames, 550.4ms\n",
      "Speed: 13.6ms preprocess, 550.4ms inference, 16.1ms postprocess per image at shape (1, 3, 640, 480)\n",
      "Results saved to \u001b[1mruns\\detect\\predict3\u001b[0m\n"
     ]
    }
   ],
   "source": [
    "results = yolov8(source=sample_img,show=False,conf=0.1,save=True)\n"
   ]
  },
  {
   "cell_type": "code",
   "execution_count": 49,
   "metadata": {},
   "outputs": [
    {
     "name": "stdout",
     "output_type": "stream",
     "text": [
      "tensor([ 96., 386., 160.,  96., 386., 386.]) tensor([0.7402, 0.4122, 0.3263, 0.2575, 0.1329, 0.1298]) tensor([[212.7646, 396.3250, 180.7167, 189.7798],\n",
      "        [227.8262, 658.2174, 236.9096, 214.3728],\n",
      "        [776.2945, 632.5422, 188.6763, 178.7322],\n",
      "        [776.6321, 632.2338, 189.0977, 180.2666],\n",
      "        [592.0172, 520.3127, 371.5897, 220.2751],\n",
      "        [244.8222, 904.8494, 143.4366, 138.2673]])\n"
     ]
    }
   ],
   "source": [
    "import cv2\n",
    "import numpy as np\n",
    "import math\n",
    "\n",
    "image = cv2.imread('pretest.jpg')\n",
    "\n",
    "for r in results:\n",
    "    box=r.boxes\n",
    "    cls=box.cls\n",
    "    conf=box.conf\n",
    "    xywh=box.xywh\n",
    "    print(cls,conf,xywh)\n",
    "    # 边界框坐标\n",
    "    for i in range(0,len(box)): \n",
    "        [x, y, w, h] = xywh[i]  # 替换为实际的边界框坐标\n",
    "        x=math.floor(x)\n",
    "        y=math.floor(y)\n",
    "        w=math.floor(w)\n",
    "        h=math.floor(h)\n",
    "        # 创建分割图像的掩膜\n",
    "\n",
    "        # 分割部分的图像\n",
    "        segmented_image = image[y-h//2:y+h//2, x-w//2:x+w//2]\n",
    "\n",
    "        # 保存分割图像\n",
    "        cv2.imwrite('segmented_image.jpg', segmented_image)\n",
    "\n",
    "        # 显示分割图像\n",
    "        cv2.imshow('Segmented Image', segmented_image)\n",
    "        cv2.waitKey(0)\n",
    "        cv2.destroyAllWindows()\n",
    "\n",
    "\n",
    "        # mask = np.zeros(image.shape[:2], dtype=np.uint8)\n",
    "        # mask[y-h//2:y+h//2, x-w//2:x+w//2] = 255\n",
    "\n",
    "        # # 应用掩膜进行分割\n",
    "        # segmented_image = cv2.bitwise_and(image, image, mask=mask)\n",
    "\n",
    "        # # 显示分割图像\n",
    "        # cv2.imshow('Segmented Image', segmented_image)\n",
    "        # cv2.waitKey(0)\n",
    "        # cv2.destroyAllWindows()\n"
   ]
  }
 ],
 "metadata": {
  "kernelspec": {
   "display_name": "mcenv",
   "language": "python",
   "name": "python3"
  },
  "language_info": {
   "codemirror_mode": {
    "name": "ipython",
    "version": 3
   },
   "file_extension": ".py",
   "mimetype": "text/x-python",
   "name": "python",
   "nbconvert_exporter": "python",
   "pygments_lexer": "ipython3",
   "version": "3.8.0"
  }
 },
 "nbformat": 4,
 "nbformat_minor": 2
}
