{
 "cells": [
  {
   "cell_type": "code",
   "execution_count": 1,
   "metadata": {},
   "outputs": [
    {
     "name": "stdout",
     "output_type": "stream",
     "text": [
      "Looking in indexes: https://mirrors.aliyun.com/pypi/simple/\n",
      "Requirement already satisfied: ultralytics in c:\\users\\13621\\anaconda3\\envs\\media\\lib\\site-packages (8.0.221)\n",
      "Requirement already satisfied: matplotlib>=3.3.0 in c:\\users\\13621\\anaconda3\\envs\\media\\lib\\site-packages (from ultralytics) (3.7.3)\n",
      "Requirement already satisfied: numpy>=1.22.2 in c:\\users\\13621\\anaconda3\\envs\\media\\lib\\site-packages (from ultralytics) (1.24.3)\n",
      "Requirement already satisfied: opencv-python>=4.6.0 in c:\\users\\13621\\anaconda3\\envs\\media\\lib\\site-packages (from ultralytics) (4.8.1.78)\n",
      "Requirement already satisfied: pillow>=7.1.2 in c:\\users\\13621\\anaconda3\\envs\\media\\lib\\site-packages (from ultralytics) (10.0.1)\n",
      "Requirement already satisfied: pyyaml>=5.3.1 in c:\\users\\13621\\anaconda3\\envs\\media\\lib\\site-packages (from ultralytics) (6.0.1)\n",
      "Requirement already satisfied: requests>=2.23.0 in c:\\users\\13621\\anaconda3\\envs\\media\\lib\\site-packages (from ultralytics) (2.31.0)\n",
      "Requirement already satisfied: scipy>=1.4.1 in c:\\users\\13621\\anaconda3\\envs\\media\\lib\\site-packages (from ultralytics) (1.10.1)\n",
      "Requirement already satisfied: torch>=1.8.0 in c:\\users\\13621\\anaconda3\\envs\\media\\lib\\site-packages (from ultralytics) (2.1.1)\n",
      "Requirement already satisfied: torchvision>=0.9.0 in c:\\users\\13621\\anaconda3\\envs\\media\\lib\\site-packages (from ultralytics) (0.16.1)\n",
      "Requirement already satisfied: tqdm>=4.64.0 in c:\\users\\13621\\anaconda3\\envs\\media\\lib\\site-packages (from ultralytics) (4.66.1)\n",
      "Requirement already satisfied: pandas>=1.1.4 in c:\\users\\13621\\anaconda3\\envs\\media\\lib\\site-packages (from ultralytics) (2.0.3)\n",
      "Requirement already satisfied: seaborn>=0.11.0 in c:\\users\\13621\\anaconda3\\envs\\media\\lib\\site-packages (from ultralytics) (0.13.0)\n",
      "Requirement already satisfied: psutil in c:\\users\\13621\\anaconda3\\envs\\media\\lib\\site-packages (from ultralytics) (5.9.5)\n",
      "Requirement already satisfied: py-cpuinfo in c:\\users\\13621\\anaconda3\\envs\\media\\lib\\site-packages (from ultralytics) (9.0.0)\n",
      "Requirement already satisfied: thop>=0.1.1 in c:\\users\\13621\\anaconda3\\envs\\media\\lib\\site-packages (from ultralytics) (0.1.1.post2209072238)\n",
      "Requirement already satisfied: contourpy>=1.0.1 in c:\\users\\13621\\anaconda3\\envs\\media\\lib\\site-packages (from matplotlib>=3.3.0->ultralytics) (1.1.1)\n",
      "Requirement already satisfied: cycler>=0.10 in c:\\users\\13621\\anaconda3\\envs\\media\\lib\\site-packages (from matplotlib>=3.3.0->ultralytics) (0.12.1)\n",
      "Requirement already satisfied: fonttools>=4.22.0 in c:\\users\\13621\\anaconda3\\envs\\media\\lib\\site-packages (from matplotlib>=3.3.0->ultralytics) (4.43.1)\n",
      "Requirement already satisfied: kiwisolver>=1.0.1 in c:\\users\\13621\\anaconda3\\envs\\media\\lib\\site-packages (from matplotlib>=3.3.0->ultralytics) (1.4.5)\n",
      "Requirement already satisfied: packaging>=20.0 in c:\\users\\13621\\anaconda3\\envs\\media\\lib\\site-packages (from matplotlib>=3.3.0->ultralytics) (23.2)\n",
      "Requirement already satisfied: pyparsing>=2.3.1 in c:\\users\\13621\\anaconda3\\envs\\media\\lib\\site-packages (from matplotlib>=3.3.0->ultralytics) (3.1.1)\n",
      "Requirement already satisfied: python-dateutil>=2.7 in c:\\users\\13621\\anaconda3\\envs\\media\\lib\\site-packages (from matplotlib>=3.3.0->ultralytics) (2.8.2)\n",
      "Requirement already satisfied: importlib-resources>=3.2.0 in c:\\users\\13621\\anaconda3\\envs\\media\\lib\\site-packages (from matplotlib>=3.3.0->ultralytics) (6.1.0)\n",
      "Requirement already satisfied: pytz>=2020.1 in c:\\users\\13621\\anaconda3\\envs\\media\\lib\\site-packages (from pandas>=1.1.4->ultralytics) (2023.3.post1)\n",
      "Requirement already satisfied: tzdata>=2022.1 in c:\\users\\13621\\anaconda3\\envs\\media\\lib\\site-packages (from pandas>=1.1.4->ultralytics) (2023.3)\n",
      "Requirement already satisfied: charset-normalizer<4,>=2 in c:\\users\\13621\\anaconda3\\envs\\media\\lib\\site-packages (from requests>=2.23.0->ultralytics) (3.3.2)\n",
      "Requirement already satisfied: idna<4,>=2.5 in c:\\users\\13621\\anaconda3\\envs\\media\\lib\\site-packages (from requests>=2.23.0->ultralytics) (3.6)\n",
      "Requirement already satisfied: urllib3<3,>=1.21.1 in c:\\users\\13621\\anaconda3\\envs\\media\\lib\\site-packages (from requests>=2.23.0->ultralytics) (2.1.0)\n",
      "Requirement already satisfied: certifi>=2017.4.17 in c:\\users\\13621\\anaconda3\\envs\\media\\lib\\site-packages (from requests>=2.23.0->ultralytics) (2023.11.17)\n",
      "Requirement already satisfied: filelock in c:\\users\\13621\\anaconda3\\envs\\media\\lib\\site-packages (from torch>=1.8.0->ultralytics) (3.13.1)\n",
      "Requirement already satisfied: typing-extensions in c:\\users\\13621\\anaconda3\\envs\\media\\lib\\site-packages (from torch>=1.8.0->ultralytics) (4.9.0)\n",
      "Requirement already satisfied: sympy in c:\\users\\13621\\anaconda3\\envs\\media\\lib\\site-packages (from torch>=1.8.0->ultralytics) (1.12)\n",
      "Requirement already satisfied: networkx in c:\\users\\13621\\anaconda3\\envs\\media\\lib\\site-packages (from torch>=1.8.0->ultralytics) (3.1)\n",
      "Requirement already satisfied: jinja2 in c:\\users\\13621\\anaconda3\\envs\\media\\lib\\site-packages (from torch>=1.8.0->ultralytics) (3.1.2)\n",
      "Requirement already satisfied: fsspec in c:\\users\\13621\\anaconda3\\envs\\media\\lib\\site-packages (from torch>=1.8.0->ultralytics) (2023.10.0)\n",
      "Requirement already satisfied: colorama in c:\\users\\13621\\anaconda3\\envs\\media\\lib\\site-packages (from tqdm>=4.64.0->ultralytics) (0.4.6)\n",
      "Requirement already satisfied: zipp>=3.1.0 in c:\\users\\13621\\anaconda3\\envs\\media\\lib\\site-packages (from importlib-resources>=3.2.0->matplotlib>=3.3.0->ultralytics) (3.17.0)\n",
      "Requirement already satisfied: six>=1.5 in c:\\users\\13621\\anaconda3\\envs\\media\\lib\\site-packages (from python-dateutil>=2.7->matplotlib>=3.3.0->ultralytics) (1.16.0)\n",
      "Requirement already satisfied: MarkupSafe>=2.0 in c:\\users\\13621\\anaconda3\\envs\\media\\lib\\site-packages (from jinja2->torch>=1.8.0->ultralytics) (2.1.3)\n",
      "Requirement already satisfied: mpmath>=0.19 in c:\\users\\13621\\anaconda3\\envs\\media\\lib\\site-packages (from sympy->torch>=1.8.0->ultralytics) (1.3.0)\n",
      "Note: you may need to restart the kernel to use updated packages.\n"
     ]
    }
   ],
   "source": [
    "%pip install ultralytics\n",
    "# %pip install git+https://github.com/openai/CLIP.git"
   ]
  },
  {
   "cell_type": "code",
   "execution_count": 2,
   "metadata": {},
   "outputs": [
    {
     "name": "stdout",
     "output_type": "stream",
     "text": [
      "Unexpected exception formatting exception. Falling back to standard exception\n"
     ]
    },
    {
     "name": "stderr",
     "output_type": "stream",
     "text": [
      "Traceback (most recent call last):\n",
      "  File \"c:\\Users\\13621\\anaconda3\\envs\\media\\lib\\site-packages\\IPython\\core\\interactiveshell.py\", line 3508, in run_code\n",
      "  File \"C:\\Users\\13621\\AppData\\Local\\Temp\\ipykernel_30644\\2614613791.py\", line 1, in <module>\n",
      "    from ultralytics import YOLO\n",
      "  File \"c:\\Users\\13621\\anaconda3\\envs\\media\\lib\\site-packages\\ultralytics\\__init__.py\", line 5, in <module>\n",
      "    from ultralytics.models import RTDETR, SAM, YOLO\n",
      "  File \"c:\\Users\\13621\\anaconda3\\envs\\media\\lib\\site-packages\\ultralytics\\models\\__init__.py\", line 3, in <module>\n",
      "    from .rtdetr import RTDETR\n",
      "  File \"c:\\Users\\13621\\anaconda3\\envs\\media\\lib\\site-packages\\ultralytics\\models\\rtdetr\\__init__.py\", line 3, in <module>\n",
      "    from .model import RTDETR\n",
      "  File \"c:\\Users\\13621\\anaconda3\\envs\\media\\lib\\site-packages\\ultralytics\\models\\rtdetr\\model.py\", line 10, in <module>\n",
      "    from ultralytics.engine.model import Model\n",
      "  File \"c:\\Users\\13621\\anaconda3\\envs\\media\\lib\\site-packages\\ultralytics\\engine\\model.py\", line 8, in <module>\n",
      "    from ultralytics.cfg import TASK2DATA, get_cfg, get_save_dir\n",
      "  File \"c:\\Users\\13621\\anaconda3\\envs\\media\\lib\\site-packages\\ultralytics\\cfg\\__init__.py\", line 10, in <module>\n",
      "    from ultralytics.utils import (ASSETS, DEFAULT_CFG, DEFAULT_CFG_DICT, DEFAULT_CFG_PATH, LOGGER, RANK, ROOT, RUNS_DIR,\n",
      "  File \"c:\\Users\\13621\\anaconda3\\envs\\media\\lib\\site-packages\\ultralytics\\utils\\__init__.py\", line 19, in <module>\n",
      "    import matplotlib.pyplot as plt\n",
      "  File \"c:\\Users\\13621\\anaconda3\\envs\\media\\lib\\site-packages\\matplotlib\\pyplot.py\", line 61, in <module>\n",
      "    from matplotlib.figure import Figure, FigureBase, figaspect\n",
      "  File \"c:\\Users\\13621\\anaconda3\\envs\\media\\lib\\site-packages\\matplotlib\\figure.py\", line 43, in <module>\n",
      "    from matplotlib import _blocking_input, backend_bases, _docstring, projections\n",
      "  File \"c:\\Users\\13621\\anaconda3\\envs\\media\\lib\\site-packages\\matplotlib\\projections\\__init__.py\", line 55, in <module>\n",
      "    from .. import axes, _docstring\n",
      "  File \"c:\\Users\\13621\\anaconda3\\envs\\media\\lib\\site-packages\\matplotlib\\axes\\__init__.py\", line 2, in <module>\n",
      "    from ._axes import *\n",
      "  File \"c:\\Users\\13621\\anaconda3\\envs\\media\\lib\\site-packages\\matplotlib\\axes\\_axes.py\", line 16, in <module>\n",
      "    import matplotlib.dates  # noqa # Register date unit converter as side effect.\n",
      "  File \"c:\\Users\\13621\\anaconda3\\envs\\media\\lib\\site-packages\\matplotlib\\dates.py\", line 178, in <module>\n",
      "    from dateutil.rrule import (rrule, MO, TU, WE, TH, FR, SA, SU, YEARLY,\n",
      "ModuleNotFoundError: No module named 'dateutil.rrule'\n",
      "\n",
      "During handling of the above exception, another exception occurred:\n",
      "\n",
      "Traceback (most recent call last):\n",
      "  File \"c:\\Users\\13621\\anaconda3\\envs\\media\\lib\\site-packages\\pygments\\styles\\__init__.py\", line 89, in get_style_by_name\n",
      "ModuleNotFoundError: No module named 'pygments.styles.default'\n",
      "\n",
      "During handling of the above exception, another exception occurred:\n",
      "\n",
      "Traceback (most recent call last):\n",
      "  File \"c:\\Users\\13621\\anaconda3\\envs\\media\\lib\\site-packages\\IPython\\core\\interactiveshell.py\", line 2105, in showtraceback\n",
      "  File \"c:\\Users\\13621\\anaconda3\\envs\\media\\lib\\site-packages\\IPython\\core\\ultratb.py\", line 1396, in structured_traceback\n",
      "  File \"c:\\Users\\13621\\anaconda3\\envs\\media\\lib\\site-packages\\IPython\\core\\ultratb.py\", line 1287, in structured_traceback\n",
      "  File \"c:\\Users\\13621\\anaconda3\\envs\\media\\lib\\site-packages\\IPython\\core\\ultratb.py\", line 1140, in structured_traceback\n",
      "  File \"c:\\Users\\13621\\anaconda3\\envs\\media\\lib\\site-packages\\IPython\\core\\ultratb.py\", line 1030, in format_exception_as_a_whole\n",
      "  File \"c:\\Users\\13621\\anaconda3\\envs\\media\\lib\\site-packages\\IPython\\core\\ultratb.py\", line 1081, in get_records\n",
      "  File \"c:\\Users\\13621\\anaconda3\\envs\\media\\lib\\site-packages\\pygments\\styles\\__init__.py\", line 91, in get_style_by_name\n",
      "pygments.util.ClassNotFound: Could not find style module 'default', though it should be builtin.\n"
     ]
    }
   ],
   "source": [
    "from ultralytics import YOLO\n",
    "import clip\n",
    "import torch\n",
    "yolov8 = YOLO(\"yolov8m-oiv7.pt\")\n",
    "device = \"cuda\" if torch.cuda.is_available() else \"cpu\"\n",
    "model, preprocess = clip.load(\"ViT-B/32\", device=device)"
   ]
  },
  {
   "cell_type": "code",
   "execution_count": 3,
   "metadata": {},
   "outputs": [],
   "source": [
    "from PIL import Image\n",
    "sample_img = Image.open(\"pretest.jpg\")\n",
    "# clip_img = preprocess(sample_img).unsqueeze(0).to(device)\n",
    "# question = \"What is in the hand?\"\n",
    "# candidates = [\"a pen\", \"an apple\", \"a handgun\", \"a phone\", \"a computer\", \"a cattle\", \"a cake\"]\n",
    "# input_texts = [f\"{question} {candidate}\" for candidate in candidates]"
   ]
  },
  {
   "cell_type": "code",
   "execution_count": 4,
   "metadata": {},
   "outputs": [
    {
     "name": "stdout",
     "output_type": "stream",
     "text": [
      "Unexpected exception formatting exception. Falling back to standard exception\n"
     ]
    },
    {
     "name": "stderr",
     "output_type": "stream",
     "text": [
      "Traceback (most recent call last):\n",
      "  File \"c:\\Users\\13621\\anaconda3\\envs\\media\\lib\\site-packages\\IPython\\core\\interactiveshell.py\", line 3508, in run_code\n",
      "  File \"C:\\Users\\13621\\AppData\\Local\\Temp\\ipykernel_30644\\2531221570.py\", line 1, in <module>\n",
      "    results = yolov8(source=sample_img,show=False,conf=0.1,save=True)\n",
      "NameError: name 'yolov8' is not defined\n",
      "\n",
      "During handling of the above exception, another exception occurred:\n",
      "\n",
      "Traceback (most recent call last):\n",
      "  File \"c:\\Users\\13621\\anaconda3\\envs\\media\\lib\\site-packages\\pygments\\styles\\__init__.py\", line 89, in get_style_by_name\n",
      "ModuleNotFoundError: No module named 'pygments.styles.default'\n",
      "\n",
      "During handling of the above exception, another exception occurred:\n",
      "\n",
      "Traceback (most recent call last):\n",
      "  File \"c:\\Users\\13621\\anaconda3\\envs\\media\\lib\\site-packages\\IPython\\core\\interactiveshell.py\", line 2105, in showtraceback\n",
      "  File \"c:\\Users\\13621\\anaconda3\\envs\\media\\lib\\site-packages\\IPython\\core\\ultratb.py\", line 1396, in structured_traceback\n",
      "  File \"c:\\Users\\13621\\anaconda3\\envs\\media\\lib\\site-packages\\IPython\\core\\ultratb.py\", line 1287, in structured_traceback\n",
      "  File \"c:\\Users\\13621\\anaconda3\\envs\\media\\lib\\site-packages\\IPython\\core\\ultratb.py\", line 1140, in structured_traceback\n",
      "  File \"c:\\Users\\13621\\anaconda3\\envs\\media\\lib\\site-packages\\IPython\\core\\ultratb.py\", line 1030, in format_exception_as_a_whole\n",
      "  File \"c:\\Users\\13621\\anaconda3\\envs\\media\\lib\\site-packages\\IPython\\core\\ultratb.py\", line 1081, in get_records\n",
      "  File \"c:\\Users\\13621\\anaconda3\\envs\\media\\lib\\site-packages\\pygments\\styles\\__init__.py\", line 91, in get_style_by_name\n",
      "pygments.util.ClassNotFound: Could not find style module 'default', though it should be builtin.\n"
     ]
    }
   ],
   "source": [
    "results = yolov8(source=sample_img,show=False,conf=0.1,save=True)\n"
   ]
  },
  {
   "cell_type": "code",
   "execution_count": 5,
   "metadata": {},
   "outputs": [
    {
     "name": "stdout",
     "output_type": "stream",
     "text": [
      "Unexpected exception formatting exception. Falling back to standard exception\n"
     ]
    },
    {
     "name": "stderr",
     "output_type": "stream",
     "text": [
      "Traceback (most recent call last):\n",
      "  File \"c:\\Users\\13621\\anaconda3\\envs\\media\\lib\\site-packages\\IPython\\core\\interactiveshell.py\", line 3508, in run_code\n",
      "  File \"C:\\Users\\13621\\AppData\\Local\\Temp\\ipykernel_30644\\549780325.py\", line 7, in <module>\n",
      "    for r in results:\n",
      "NameError: name 'results' is not defined\n",
      "\n",
      "During handling of the above exception, another exception occurred:\n",
      "\n",
      "Traceback (most recent call last):\n",
      "  File \"c:\\Users\\13621\\anaconda3\\envs\\media\\lib\\site-packages\\pygments\\styles\\__init__.py\", line 89, in get_style_by_name\n",
      "ModuleNotFoundError: No module named 'pygments.styles.default'\n",
      "\n",
      "During handling of the above exception, another exception occurred:\n",
      "\n",
      "Traceback (most recent call last):\n",
      "  File \"c:\\Users\\13621\\anaconda3\\envs\\media\\lib\\site-packages\\IPython\\core\\interactiveshell.py\", line 2105, in showtraceback\n",
      "  File \"c:\\Users\\13621\\anaconda3\\envs\\media\\lib\\site-packages\\IPython\\core\\ultratb.py\", line 1396, in structured_traceback\n",
      "  File \"c:\\Users\\13621\\anaconda3\\envs\\media\\lib\\site-packages\\IPython\\core\\ultratb.py\", line 1287, in structured_traceback\n",
      "  File \"c:\\Users\\13621\\anaconda3\\envs\\media\\lib\\site-packages\\IPython\\core\\ultratb.py\", line 1140, in structured_traceback\n",
      "  File \"c:\\Users\\13621\\anaconda3\\envs\\media\\lib\\site-packages\\IPython\\core\\ultratb.py\", line 1030, in format_exception_as_a_whole\n",
      "  File \"c:\\Users\\13621\\anaconda3\\envs\\media\\lib\\site-packages\\IPython\\core\\ultratb.py\", line 1081, in get_records\n",
      "  File \"c:\\Users\\13621\\anaconda3\\envs\\media\\lib\\site-packages\\pygments\\styles\\__init__.py\", line 91, in get_style_by_name\n",
      "pygments.util.ClassNotFound: Could not find style module 'default', though it should be builtin.\n"
     ]
    }
   ],
   "source": [
    "import cv2\n",
    "import numpy as np\n",
    "import math\n",
    "\n",
    "image = cv2.imread('pretest.jpg')\n",
    "\n",
    "for r in results:\n",
    "    box=r.boxes\n",
    "    cls=box.cls\n",
    "    conf=box.conf\n",
    "    xywh=box.xywh\n",
    "    print(cls,conf,xywh)\n",
    "    # 边界框坐标\n",
    "\n",
    "    img_list=[]\n",
    "    for i in range(0,len(box)): \n",
    "        [x, y, w, h] = xywh[i]  # 替换为实际的边界框坐标\n",
    "        x=math.floor(x)\n",
    "        y=math.floor(y)\n",
    "        w=math.floor(w)\n",
    "        h=math.floor(h)\n",
    "        # 创建分割图像的掩膜\n",
    "\n",
    "        # 分割部分的图像\n",
    "        segmented_image = image[y-h//2:y+h//2, x-w//2:x+w//2]\n",
    "        img_list.append(segmented_image)\n",
    "\n",
    "        # 保存分割图像\n",
    "        cv2.imwrite('segmented_image.jpg', segmented_image)\n",
    "\n",
    "# 显示分割图像\n",
    "for member in img_list:\n",
    "    cv2.imshow(member)        \n"
   ]
  }
 ],
 "metadata": {
  "kernelspec": {
   "display_name": "mcenv",
   "language": "python",
   "name": "python3"
  },
  "language_info": {
   "codemirror_mode": {
    "name": "ipython",
    "version": 3
   },
   "file_extension": ".py",
   "mimetype": "text/x-python",
   "name": "python",
   "nbconvert_exporter": "python",
   "pygments_lexer": "ipython3",
   "version": "3.8.18"
  }
 },
 "nbformat": 4,
 "nbformat_minor": 2
}
